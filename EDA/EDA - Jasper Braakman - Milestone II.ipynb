{
 "cells": [
  {
   "cell_type": "markdown",
   "id": "5e25ea09-74d6-47e6-bad6-e922f52c3532",
   "metadata": {},
   "source": [
    "# Personal Information\n",
    "Name: Jasper Braakman\n",
    "\n",
    "StudentID: 12418781\n",
    "\n",
    "Email: [jasper.braakman@student.uva.nl](youremail@student.uva.nl)\n",
    "\n",
    "Submitted on: 22-03-2024\n",
    "\n",
    "GitHub: "
   ]
  },
  {
   "cell_type": "code",
   "execution_count": 82,
   "id": "af4a5188",
   "metadata": {},
   "outputs": [],
   "source": [
    "# Imports\n",
    "import geopandas as gpd\n",
    "import pandas as pd\n",
    "import numpy as np\n",
    "\n",
    "# Raster libraries\n",
    "import rasterio\n",
    "from rasterio.features import rasterize\n",
    "\n",
    "# Random\n",
    "import random"
   ]
  },
  {
   "cell_type": "markdown",
   "id": "290e1fd0",
   "metadata": {},
   "source": [
    "### General Description of \"Zaanstad boorpunten data\":\n",
    "- Name: Zaanstad boorpunten data\n",
    "- Type: Categorical variable\n",
    "\n",
    "### Categories:\n",
    "- Below background value (<=AW)\n",
    "- Above background value (>AW)\n",
    "- Above intervention value (>I)\n",
    "- Above in between value (>T)\n",
    "\n",
    "### Transformations:\n",
    "1. Remove rows with NaN values from within date or soil test.\n",
    "2. Filtering by Measurement Year: Remove all rows that are measured before 2008. This is done because the methodology used to sample and evaluate soil measurements was only regulated in the Netherlands after a law was passed in 2008.\n",
    "3. Include only points that have 10 or more neighboring points within a radius of 25 meters. This is done because later on we will use these 10 neighbors as an additional variable.\n",
    "\n",
    "### Conclusion:\n",
    "After transformations we see that we are left with about 1/6th of the data that is almost evenly split. When training the model still a decision will have to be taken if the data has to be further trimmed to allow equally sized categories."
   ]
  },
  {
   "cell_type": "code",
   "execution_count": 5,
   "id": "38658acc",
   "metadata": {},
   "outputs": [],
   "source": [
    "# Load the specific layer from the geopackage\n",
    "gdf = gpd.read_file(\"../Data/Bodemloket_20231009_Antea_Group.gpkg\", layer=\"TBL_WFS_GEO_BORING_ONDERZOEK\")"
   ]
  },
  {
   "cell_type": "code",
   "execution_count": 6,
   "id": "b840f62b",
   "metadata": {},
   "outputs": [
    {
     "name": "stdout",
     "output_type": "stream",
     "text": [
      "General Description of Zaanstad boorpunten data:\n",
      "Number of observations: 119958\n",
      "Categories and their counts:\n",
      ">AW     31502\n",
      ">I      23138\n",
      "<=AW    13006\n",
      ">T       8886\n",
      "Name: TOETS_WBB, dtype: int64\n"
     ]
    }
   ],
   "source": [
    "# Describtion of the raw data\n",
    "print(\"General Description of Zaanstad boorpunten data:\")\n",
    "print(\"Number of observations:\", len(gdf))\n",
    "print(\"Categories and their counts:\")\n",
    "print(gdf['TOETS_WBB'].value_counts())"
   ]
  },
  {
   "cell_type": "code",
   "execution_count": 7,
   "id": "9b114311",
   "metadata": {},
   "outputs": [],
   "source": [
    "# Transformation 1: Removing NULL values from DATUM_RAP and TOETS_WBB columns\n",
    "gdf = gdf.dropna(subset=['DATUM_RAP'])\n",
    "gdf = gdf.dropna(subset=['TOETS_WBB'])"
   ]
  },
  {
   "cell_type": "code",
   "execution_count": 8,
   "id": "d63c98ce",
   "metadata": {},
   "outputs": [],
   "source": [
    "# Transformation 2: Filtering by Measurement Year\n",
    "# Convert DATUM_RAP to datetime format\n",
    "gdf['DATUM_RAP'] = pd.to_datetime(gdf['DATUM_RAP'], format='%d-%m-%Y')\n",
    "\n",
    "# Remove all measurements before 2008\n",
    "gdf = gdf[gdf['DATUM_RAP'].dt.year >= 2008]"
   ]
  },
  {
   "cell_type": "code",
   "execution_count": 9,
   "id": "5a7ecba3",
   "metadata": {},
   "outputs": [],
   "source": [
    "# Transformation 3: Changing categories of TOETS_WBB\n",
    "gdf.loc[gdf['TOETS_WBB'] != '>I', 'TOETS_WBB'] = '<I'"
   ]
  },
  {
   "cell_type": "code",
   "execution_count": 10,
   "id": "3f4b72d2",
   "metadata": {},
   "outputs": [],
   "source": [
    "# Transformation 4: Spatial Filtering\n",
    "# Calculate number of neighboring points within a radius of 25 meters\n",
    "gdf['neighbors'] = gdf.geometry.apply(lambda x: len(gdf[gdf.geometry.within(x.buffer(25))]) - 1)"
   ]
  },
  {
   "cell_type": "code",
   "execution_count": 11,
   "id": "bac16a8a",
   "metadata": {},
   "outputs": [],
   "source": [
    "# Filter points with 10 or more neighbors\n",
    "zaanstad_data_filtered = gdf[gdf['neighbors'] >= 10]"
   ]
  },
  {
   "cell_type": "code",
   "execution_count": 12,
   "id": "b09cccbf",
   "metadata": {},
   "outputs": [
    {
     "name": "stdout",
     "output_type": "stream",
     "text": [
      "General Description of Zaanstad boorpunten data:\n",
      "Number of observations: 18525\n",
      "Categories and their counts:\n",
      "<I    11370\n",
      ">I     7155\n",
      "Name: TOETS_WBB, dtype: int64\n"
     ]
    }
   ],
   "source": [
    "# Describtion of the raw data\n",
    "print(\"General Description of Zaanstad boorpunten data:\")\n",
    "print(\"Number of observations:\", len(zaanstad_data_filtered))\n",
    "print(\"Categories and their counts:\")\n",
    "print(zaanstad_data_filtered['TOETS_WBB'].value_counts())"
   ]
  },
  {
   "cell_type": "code",
   "execution_count": 13,
   "id": "eadca119",
   "metadata": {},
   "outputs": [
    {
     "name": "stdout",
     "output_type": "stream",
     "text": [
      "Filtered data saved to: cleaned_data_zaanstad.gpkg\n"
     ]
    }
   ],
   "source": [
    "# Define the file path for the new geopackage\n",
    "output_gpkg = \"../Data/cleaned_data_zaanstad.gpkg\"\n",
    "\n",
    "# Save the filtered GeoDataFrame to the new geopackage\n",
    "zaanstad_data_filtered.to_file(output_gpkg, driver=\"GPKG\")\n",
    "\n",
    "print(\"Filtered data saved to:\", output_gpkg)"
   ]
  },
  {
   "cell_type": "markdown",
   "id": "155be08a",
   "metadata": {},
   "source": [
    "### General Description of \"Bodem Kwaliteits Kaart data\":\n",
    "- Name: BKK\n",
    "- Type: Categorical variable\n",
    "\n",
    "### Categories:\n",
    "- AW-2000 (low risk zone)\n",
    "- Wonen (medium risk zone)\n",
    "- Industrie (high risk zone)\n",
    "\n",
    "### Transformations:\n",
    "For each point within the soil sample dataset we check in which risk zone this soil sample is.\n",
    "\n",
    "### Conclusions\n",
    "As shown in the print statement the likelyhood of finding a polluted point within a risk zone increases with the higher level of risk associated with the risk zone. This might indicate that the expert knowledge imbedded in the model through this variable might contribute to predicting polution."
   ]
  },
  {
   "cell_type": "code",
   "execution_count": 49,
   "id": "12a94c2d",
   "metadata": {},
   "outputs": [
    {
     "name": "stdout",
     "output_type": "stream",
     "text": [
      "Category: AW_2000\n",
      " - Greater than I: 25\n",
      " - Less than I: 111\n",
      "Category: Wonen\n",
      " - Greater than I: 862\n",
      " - Less than I: 2164\n",
      "Category: Industrie\n",
      " - Greater than I: 6217\n",
      " - Less than I: 9065\n",
      "Category: Onbekend\n",
      " - Greater than I: 0\n",
      " - Less than I: 0\n"
     ]
    }
   ],
   "source": [
    "# Load the points dataset containing \"bodem kwaliteits kaart\" and \"TOETS_WBB\" variables\n",
    "points_gdf = gpd.read_file(\"../Data/cleaned_data_zaanstad.gpkg\", layer=\"cleaned_data_zaanstad\")\n",
    "\n",
    "# Load the raster dataset representing \"bodem kwaliteits kaart\"\n",
    "raster_path = \"../Data/bbk_Zaanstad.tif\"  # Change to the actual file path\n",
    "\n",
    "# Open the raster dataset\n",
    "with rasterio.open(raster_path) as src:\n",
    "    # Read the raster data\n",
    "    raster_data = src.read(1)\n",
    "\n",
    "    # Get the affine transformation parameters\n",
    "    transform = src.transform\n",
    "\n",
    "# Categories\n",
    "categories = {\n",
    "    'AW_2000': 138,\n",
    "    'Wonen': 252,\n",
    "    'Industrie': 254,\n",
    "    'Onbekend': 142\n",
    "}\n",
    "\n",
    "# Define the conditions for TOETS_WBB\n",
    "toets_wbb_conditions = {\n",
    "    'Greater than I': '>I',\n",
    "    'Less than I': '<I',\n",
    "}\n",
    "\n",
    "# Initialize counts for each category and condition\n",
    "category_counts = {category: {condition: 0 for condition in toets_wbb_conditions} for category in categories}\n",
    "\n",
    "# Iterate over each point in the GeoDataFrame\n",
    "for index, point in points_gdf.iterrows():\n",
    "    # Extract the x, y coordinates of the point\n",
    "    x = point.geometry.x\n",
    "    y = point.geometry.y\n",
    "    \n",
    "    try:\n",
    "        # Convert the x, y coordinates to row, column indices in the raster\n",
    "        row, col = src.index(x, y)\n",
    "        \n",
    "        # Get the pixel value at the corresponding row, column indices\n",
    "        pixel_value = raster_data[row, col]\n",
    "        \n",
    "        # Access the value in the TOETS_WBB column for the current point\n",
    "        toets_wbb_value = point['TOETS_WBB']\n",
    "        \n",
    "        # Check if the pixel value matches any category\n",
    "        for category, category_value in categories.items():\n",
    "            if pixel_value == category_value:\n",
    "                # Check the conditions on TOETS_WBB\n",
    "                for condition_name, condition in toets_wbb_conditions.items():\n",
    "                    if condition == toets_wbb_value:\n",
    "                        # Increment count for the current category and condition\n",
    "                        category_counts[category][condition_name] += 1\n",
    "    \n",
    "    except IndexError:\n",
    "        # Skip this point and continue with the next\n",
    "        continue\n",
    "\n",
    "# Print the counts for each category and condition\n",
    "for category, condition_counts in category_counts.items():\n",
    "    print(f\"Category: {category}\")\n",
    "    for condition, count in condition_counts.items():\n",
    "        print(f\" - {condition}: {count}\")"
   ]
  },
  {
   "cell_type": "markdown",
   "id": "c3029931",
   "metadata": {},
   "source": [
    "### General Description of \"Basisregistratie Gewaspercelen\":\n",
    "- Name: Basisregistratie Gewaspercelen\n",
    "- Type: Categorical variable\n",
    "\n",
    "### Categories:\n",
    "- Agricultural fields\n",
    "- No aggricultural fields\n",
    "\n",
    "### Transformations:\n",
    "For each point within the soil sample dataset we check wether it is taken inside an agricultural field or not.\n",
    "\n",
    "### Conclusion\n",
    "From the analysis we see that most points lie outside of the aggricultural fields, indicating that the variable will most likely not contribute much to the model. However, later in the reseach we can adjust this variable by drawing buffers around the aggricultural fields, this could be done since it can logically be assumed that the influence of the fields is larger than the ground themself (take for example pestisides or fertalizer that contaminates the ground water). With this adjusted variable we could reevaluate the importance of this variable."
   ]
  },
  {
   "cell_type": "code",
   "execution_count": 81,
   "id": "28000a83",
   "metadata": {},
   "outputs": [
    {
     "name": "stdout",
     "output_type": "stream",
     "text": [
      "Points outside polygons: 18497\n",
      "Points inside polygons: 28\n",
      "Points belonging to each category:\n",
      "<I    26\n",
      ">I     2\n",
      "Name: TOETS_WBB, dtype: int64\n"
     ]
    }
   ],
   "source": [
    "# Load the polygon shapefile\n",
    "polygons = gpd.read_file(\"../Data/Zaanstad_Clipped_Databronnen.gpkg\", layer=\"BRP_Gewaspercelen\")\n",
    "\n",
    "# Load the point shapefile\n",
    "points = gpd.read_file(\"../Data/cleaned_data_zaanstad.gpkg\", layer=\"cleaned_data_zaanstad\")\n",
    "\n",
    "# Perform spatial join\n",
    "points_in_polygons = gpd.sjoin(points, polygons, predicate='within')\n",
    "\n",
    "# Count points inside and outside polygons\n",
    "inside_count = len(points_in_polygons)\n",
    "outside_count = len(points) - inside_count\n",
    "\n",
    "# Count points belonging to each category\n",
    "category_counts = points_in_polygons['TOETS_WBB'].value_counts()\n",
    "\n",
    "print(\"Points outside polygons:\", outside_count)\n",
    "print(\"Points inside polygons:\", inside_count)\n",
    "print(\"Points belonging to each category:\")\n",
    "print(category_counts)"
   ]
  },
  {
   "cell_type": "markdown",
   "id": "c3f4f7d2",
   "metadata": {},
   "source": [
    "### General Description of \"Rivieren\":\n",
    "- Name: Rivers\n",
    "- Type: Categorical variable\n",
    "\n",
    "### Categories:\n",
    "- Within 10m buffer of a river\n",
    "- Outside 10m buffer of a river\n",
    "\n",
    "### Transformations:\n",
    "For each point within the soil sample dataset we check wether it is within the a buffer of 10 meters around water bodies.\n",
    "\n",
    "### Conclusion:\n",
    "From the print statements we can see that the data indicates that around water bodies we can expect on avarage a more clean soil."
   ]
  },
  {
   "cell_type": "code",
   "execution_count": 60,
   "id": "f6a49a8a",
   "metadata": {},
   "outputs": [
    {
     "name": "stdout",
     "output_type": "stream",
     "text": [
      "Points outside the 25m buffer:\n",
      "TOETS_WBB\n",
      "<I    9775\n",
      ">I    5772\n",
      "dtype: int64\n",
      "Points within 25m buffer:\n",
      "TOETS_WBB\n",
      "<I    2087\n",
      ">I    1819\n",
      "dtype: int64\n"
     ]
    }
   ],
   "source": [
    "# Read the shapefiles into GeoDataFrames\n",
    "points_gdf = gpd.read_file(\"../Data/cleaned_data_zaanstad.gpkg\", layer=\"cleaned_data_zaanstad\")\n",
    "\n",
    "# Water files\n",
    "lines_gdf = gpd.read_file(\"../Data/Zaanstad_Clipped_Databronnen.gpkg\", layer=\"oppervlaktewaterlichaam_zaanstad\")\n",
    "\n",
    "# Create 25m buffers around lines and polygons\n",
    "lines_buffer = lines_gdf.copy()  # Copy the GeoDataFrame\n",
    "lines_buffer['geometry'] = lines_buffer.geometry.buffer(10)  # Apply buffer operation\n",
    "\n",
    "# Spatial join between points and lines\n",
    "points_within_lines = gpd.sjoin(points_gdf, lines_buffer, how='inner', predicate='within')\n",
    "\n",
    "# Count points within the buffer by category\n",
    "points_within_buffer_count = points_within_lines.groupby('TOETS_WBB').size()\n",
    "\n",
    "# Filter out points within the buffer\n",
    "points_outside_buffer = points_gdf[~points_gdf.index.isin(points_within_buffer.index)]\n",
    "\n",
    "# Count points outside the buffer by category\n",
    "points_outside_buffer_count = points_outside_buffer.groupby('TOETS_WBB').size()\n",
    "\n",
    "# Perform spatial join between points and buffer to find points outside the buffer\n",
    "points_outside_buffer = gpd.sjoin(points_gdf, lines_buffer, how='left', predicate='within')\n",
    "points_outside_buffer = points_outside_buffer[points_outside_buffer.index_right.isnull()]\n",
    "\n",
    "# Count points outside the buffer by category\n",
    "points_outside_buffer_count = points_outside_buffer.groupby('TOETS_WBB').size()\n",
    "\n",
    "print(\"Points outside the 25m buffer:\")\n",
    "print(points_outside_buffer_count)\n",
    "\n",
    "print(\"Points within 25m buffer:\")\n",
    "print(points_within_buffer_count)"
   ]
  },
  {
   "cell_type": "markdown",
   "id": "6a7d2ab5",
   "metadata": {},
   "source": [
    "### General Description of \"Wegen\":\n",
    "- Name: Roads\n",
    "- Type: Categorical variable\n",
    "\n",
    "### Categories:\n",
    "- Within 25m of a road\n",
    "- Not within 25m of a road\n",
    "\n",
    "### Transformations:\n",
    "For each point within the soil sample dataset we check wether it is within the a buffer of 10 meters around roads.\n",
    "\n",
    "### Conclusion:\n",
    "From the print statements we can see that the data indicates that around roads we can expect on avarage a poluted soil."
   ]
  },
  {
   "cell_type": "code",
   "execution_count": 64,
   "id": "5c616bd0",
   "metadata": {
    "scrolled": false
   },
   "outputs": [
    {
     "name": "stdout",
     "output_type": "stream",
     "text": [
      "Points outside the 10m buffer:\n",
      "TOETS_WBB\n",
      "<I    7306\n",
      ">I    4898\n",
      "dtype: int64\n",
      "Points within 10m buffer:\n",
      "TOETS_WBB\n",
      "<I    5416\n",
      ">I    2812\n",
      "dtype: int64\n"
     ]
    }
   ],
   "source": [
    "# Read the shapefiles into GeoDataFrames\n",
    "points_gdf = gpd.read_file(\"../Data/cleaned_data_zaanstad.gpkg\", layer=\"cleaned_data_zaanstad\")\n",
    "\n",
    "# Water files\n",
    "lines_gdf = gpd.read_file(\"../Data/Zaanstad_Clipped_Databronnen.gpkg\", layer=\"wegvakken\")\n",
    "\n",
    "# Create 25m buffers around lines and polygons\n",
    "lines_buffer = lines_gdf.copy()  # Copy the GeoDataFrame\n",
    "lines_buffer['geometry'] = lines_buffer.geometry.buffer(10)  # Apply buffer operation\n",
    "\n",
    "# Spatial join between points and lines\n",
    "points_within_lines = gpd.sjoin(points_gdf, lines_buffer, how='inner', predicate='within')\n",
    "\n",
    "# Count points within the buffer by category\n",
    "points_within_buffer_count = points_within_lines.groupby('TOETS_WBB').size()\n",
    "\n",
    "# Filter out points within the buffer\n",
    "points_outside_buffer = points_gdf[~points_gdf.index.isin(points_within_buffer.index)]\n",
    "\n",
    "# Count points outside the buffer by category\n",
    "points_outside_buffer_count = points_outside_buffer.groupby('TOETS_WBB').size()\n",
    "\n",
    "# Perform spatial join between points and buffer to find points outside the buffer\n",
    "points_outside_buffer = gpd.sjoin(points_gdf, lines_buffer, how='left', predicate='within')\n",
    "points_outside_buffer = points_outside_buffer[points_outside_buffer.index_right.isnull()]\n",
    "\n",
    "# Count points outside the buffer by category\n",
    "points_outside_buffer_count = points_outside_buffer.groupby('TOETS_WBB').size()\n",
    "\n",
    "print(\"Points outside the 10m buffer:\")\n",
    "print(points_outside_buffer_count)\n",
    "\n",
    "print(\"Points within 10m buffer:\")\n",
    "print(points_within_buffer_count)"
   ]
  },
  {
   "cell_type": "markdown",
   "id": "5dd1dd66",
   "metadata": {},
   "source": [
    "### General Description of \"spoorwegen\":\n",
    "- Name: Railroad\n",
    "- Type: Categorical variable\n",
    "\n",
    "### Categories:\n",
    "- Within 10m of a Railroad\n",
    "- Not within 10m of a Railroad\n",
    "\n",
    "### Transformations:\n",
    "For each point within the soil sample dataset we check wether it is within the a buffer of 10 meters around railroads.\n",
    "\n",
    "### Conclusion:\n",
    "From the print statements we can see that the data indicates that around railroads we can expect on avarage a poluted soil."
   ]
  },
  {
   "cell_type": "code",
   "execution_count": 66,
   "id": "2417d534",
   "metadata": {},
   "outputs": [
    {
     "name": "stdout",
     "output_type": "stream",
     "text": [
      "Points outside the 10m buffer:\n",
      "TOETS_WBB\n",
      "<I    11254\n",
      ">I     7103\n",
      "dtype: int64\n",
      "Points within 10m buffer:\n",
      "TOETS_WBB\n",
      "<I    528\n",
      ">I    225\n",
      "dtype: int64\n"
     ]
    }
   ],
   "source": [
    "# Read the shapefiles into GeoDataFrames\n",
    "points_gdf = gpd.read_file(\"../Data/cleaned_data_zaanstad.gpkg\", layer=\"cleaned_data_zaanstad\")\n",
    "\n",
    "# Water files\n",
    "lines_gdf = gpd.read_file(\"../Data/Zaanstad_Clipped_Databronnen.gpkg\", layer=\"spooras\")\n",
    "\n",
    "# Create 25m buffers around lines and polygons\n",
    "lines_buffer = lines_gdf.copy()  # Copy the GeoDataFrame\n",
    "lines_buffer['geometry'] = lines_buffer.geometry.buffer(10)  # Apply buffer operation\n",
    "\n",
    "# Spatial join between points and lines\n",
    "points_within_lines = gpd.sjoin(points_gdf, lines_buffer, how='inner', predicate='within')\n",
    "\n",
    "# Count points within the buffer by category\n",
    "points_within_buffer_count = points_within_lines.groupby('TOETS_WBB').size()\n",
    "\n",
    "# Filter out points within the buffer\n",
    "points_outside_buffer = points_gdf[~points_gdf.index.isin(points_within_buffer.index)]\n",
    "\n",
    "# Count points outside the buffer by category\n",
    "points_outside_buffer_count = points_outside_buffer.groupby('TOETS_WBB').size()\n",
    "\n",
    "# Perform spatial join between points and buffer to find points outside the buffer\n",
    "points_outside_buffer = gpd.sjoin(points_gdf, lines_buffer, how='left', predicate='within')\n",
    "points_outside_buffer = points_outside_buffer[points_outside_buffer.index_right.isnull()]\n",
    "\n",
    "# Count points outside the buffer by category\n",
    "points_outside_buffer_count = points_outside_buffer.groupby('TOETS_WBB').size()\n",
    "\n",
    "print(\"Points outside the 10m buffer:\")\n",
    "print(points_outside_buffer_count)\n",
    "\n",
    "print(\"Points within 10m buffer:\")\n",
    "print(points_within_buffer_count)"
   ]
  },
  {
   "cell_type": "markdown",
   "id": "529af2e5",
   "metadata": {},
   "source": [
    "### General Description of \"ibis\":\n",
    "- Name: Industrial Areas\n",
    "- Type: Categorical variable\n",
    "\n",
    "### Categories:\n",
    "- Within Industrial Areas\n",
    "- Outside Industrial Areas\n",
    "\n",
    "### Transformations:\n",
    "For each point within the soil sample dataset we check wether it is taken inside an industrial area or not.\n",
    "\n",
    "### Conclusion\n",
    "From the data we can conclude that on avarage the soil is more clean in industrial areas than in non industrial areas. This might be counter intuative. However, this can be explained given the strick laws for industrial areas and the fact that we only use use recent soil samples (from 2008 onwards)."
   ]
  },
  {
   "cell_type": "code",
   "execution_count": 68,
   "id": "640fdcd9",
   "metadata": {},
   "outputs": [
    {
     "name": "stdout",
     "output_type": "stream",
     "text": [
      "Points inside polygons: 2119\n",
      "Points outside polygons: 16406\n",
      "Points belonging to each category:\n",
      "<I    1400\n",
      ">I     719\n",
      "Name: TOETS_WBB, dtype: int64\n"
     ]
    }
   ],
   "source": [
    "# Load the polygon shapefile\n",
    "polygons = gpd.read_file(\"../Data/Zaanstad_Clipped_Databronnen.gpkg\", layer=\"ibis_zaanstad\")\n",
    "\n",
    "# Load the point shapefile\n",
    "points = gpd.read_file(\"../Data/cleaned_data_zaanstad.gpkg\", layer=\"cleaned_data_zaanstad\")\n",
    "\n",
    "# Perform spatial join\n",
    "points_in_polygons = gpd.sjoin(points, polygons, predicate='within')\n",
    "\n",
    "# Count points inside and outside polygons\n",
    "inside_count = len(points_in_polygons)\n",
    "outside_count = len(points) - inside_count\n",
    "\n",
    "# Count points belonging to each category\n",
    "category_counts = points_in_polygons['TOETS_WBB'].value_counts()\n",
    "\n",
    "print(\"Points outside polygons:\", outside_count)\n",
    "print(\"Points inside polygons:\", inside_count)\n",
    "print(\"Points belonging to each category:\")\n",
    "print(category_counts)"
   ]
  },
  {
   "cell_type": "markdown",
   "id": "d937fafc",
   "metadata": {},
   "source": [
    "### General Description of \"Surrounding Points variable\":\n",
    "- Name: Surrounding Points variable\n",
    "- Type: Continues variable (fraction of poluted points to non-poluted points within its neighbourhood)\n",
    "\n",
    "### Transformations:\n",
    "For each point within the soil sample dataset we calculate the number of poluted points to non poluted points."
   ]
  },
  {
   "cell_type": "code",
   "execution_count": 79,
   "id": "00888af3",
   "metadata": {
    "scrolled": false
   },
   "outputs": [],
   "source": [
    "# Load the GeoPackage file\n",
    "gdf = gpd.read_file(\"../Data/cleaned_data_zaanstad.gpkg\", layer=\"cleaned_data_zaanstad\")\n",
    "\n",
    "# Function to select random points within each buffer\n",
    "def select_random_points_within(points, n=10):\n",
    "    selected_points = random.sample(list(points.iterrows()), min(n, len(points)))\n",
    "    polluted_count = sum(1 for _, point in selected_points if point['TOETS_WBB'] == '>I')\n",
    "    return polluted_count / n\n",
    "\n",
    "# Select random points within each buffer and calculate fraction polluted\n",
    "fraction_poluted_list = []\n",
    "for index, row in gdf.iterrows():\n",
    "    point_geometry = row.geometry\n",
    "    buffer = point_geometry.buffer(25)\n",
    "    points_within = gdf[gdf.geometry.within(buffer)]\n",
    "    fraction_poluted = select_random_points_within(points_within_buffer)\n",
    "    fraction_poluted_list.append(fraction_poluted)\n",
    "\n",
    "# Add fraction_poluted to the GeoDataFrame\n",
    "gdf['fraction_poluted'] = fraction_poluted_list\n",
    "\n",
    "# Save the new dataset to a GeoPackage file\n",
    "output_gpkg = \"../Data/fraction_poluted.gpkg\"\n",
    "gdf.to_file(output_gpkg, driver=\"GPKG\")"
   ]
  },
  {
   "cell_type": "code",
   "execution_count": 80,
   "id": "6e2dfed9",
   "metadata": {},
   "outputs": [
    {
     "name": "stdout",
     "output_type": "stream",
     "text": [
      "Fraction of points with label '>I' among high fraction_poluted: 0.38956078930617444\n",
      "Fraction of points with label '<I' among high fraction_poluted: 0.6104392106938256\n"
     ]
    }
   ],
   "source": [
    "# Load the GeoPackage file with fraction_poluted\n",
    "gdf = gpd.read_file(\"../Data/fraction_poluted.gpkg\")\n",
    "\n",
    "# Filter points with fraction_poluted above 0.5\n",
    "high_fraction_poluted = gdf[gdf['fraction_poluted'] > 0.5]\n",
    "\n",
    "# Calculate the fraction of points with label '>I' and '<I' among high fraction_poluted\n",
    "total_points = len(high_fraction_poluted)\n",
    "label_I_count = len(high_fraction_poluted[high_fraction_poluted['TOETS_WBB'] == '>I'])\n",
    "label_not_I_count = len(high_fraction_poluted[high_fraction_poluted['TOETS_WBB'] == '<I'])\n",
    "\n",
    "# Calculate the fractions\n",
    "fraction_I = label_I_count / total_points\n",
    "fraction_not_I = label_not_I_count / total_points\n",
    "\n",
    "print(\"Fraction of points with label '>I' among high fraction_poluted:\", fraction_I)\n",
    "print(\"Fraction of points with label '<I' among high fraction_poluted:\", fraction_not_I)"
   ]
  }
 ],
 "metadata": {
  "kernelspec": {
   "display_name": "Python 3 (ipykernel)",
   "language": "python",
   "name": "python3"
  },
  "language_info": {
   "codemirror_mode": {
    "name": "ipython",
    "version": 3
   },
   "file_extension": ".py",
   "mimetype": "text/x-python",
   "name": "python",
   "nbconvert_exporter": "python",
   "pygments_lexer": "ipython3",
   "version": "3.9.12"
  }
 },
 "nbformat": 4,
 "nbformat_minor": 5
}
