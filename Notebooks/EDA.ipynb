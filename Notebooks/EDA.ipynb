{
 "cells": [
  {
   "cell_type": "markdown",
   "id": "bbd91b3b",
   "metadata": {},
   "source": [
    "# EDA\n",
    "This Notebook creates the EDA tables from the Appendix as well as the barcharts for the distribution of polluted soil samples between datasets and risk zone. The tables illustrates the distribution of polluted and non-polluted samples within and outside the industrial zones for each dataset, and further breaks down the samples within the three risk categories. "
   ]
  },
  {
   "cell_type": "code",
   "execution_count": null,
   "id": "cbaf8d46",
   "metadata": {},
   "outputs": [],
   "source": [
    "# Imports\n",
    "import geopandas as gpd\n",
    "import pandas as pd\n",
    "import matplotlib.pyplot as plt"
   ]
  },
  {
   "cell_type": "code",
   "execution_count": null,
   "id": "1ca341cd",
   "metadata": {},
   "outputs": [],
   "source": [
    "# Load the dataset\n",
    "data_zaanstad = gpd.read_file(\"../Data/dataset_zaanstad.gpkg\", layer=\"polluted_points\")\n",
    "data_oosterhout = gpd.read_file(\"../Data/dataset_oosterhout.gpkg\", layer=\"polluted_points\")"
   ]
  },
  {
   "cell_type": "markdown",
   "id": "765c3289",
   "metadata": {},
   "source": [
    "## Tables"
   ]
  },
  {
   "cell_type": "code",
   "execution_count": null,
   "id": "458c801e",
   "metadata": {},
   "outputs": [],
   "source": [
    "columnName = 'industry'\n",
    "\n",
    "counts_zaanstad = data_zaanstad.groupby(['TOETS_WBB', 'BKK', columnName]).size().unstack().reset_index()\n",
    "counts_zaanstad = counts_zaanstad[counts_zaanstad['BKK'] != 'Onbekend']\n",
    "\n",
    "# Transforming the DataFrame to the desired format\n",
    "zaanstad = pd.pivot_table(counts_zaanstad, values=[True, False], index=['BKK'], columns=['TOETS_WBB'])\n",
    "zaanstad = zaanstad.rename(columns={False: \"Buiten\", True: \"Binnen\"})\n",
    "desired_order = ['AW_2000', 'Wonen', 'Industrie']\n",
    "zaanstad = zaanstad.reindex(desired_order)\n",
    "                          \n",
    "counts_oosterhout = data_oosterhout.groupby(['TOETS_WBB', 'BKK', columnName]).size().unstack().reset_index()\n",
    "counts_oosterhout = counts_oosterhout[counts_oosterhout['BKK'] != 'Onbekend']\n",
    "\n",
    "# Transforming the DataFrame to the desired format\n",
    "oosterhout = pd.pivot_table(counts_oosterhout, values=[True, False], index=['BKK'], columns=['TOETS_WBB'])\n",
    "oosterhout = oosterhout.rename(columns={False: \"Buiten\", True: \"Binnen\"})\n",
    "desired_order = ['AW_2000', 'Wonen', 'Industrie']\n",
    "oosterhout = oosterhout.reindex(desired_order)"
   ]
  },
  {
   "cell_type": "code",
   "execution_count": null,
   "id": "bd0f4a4a",
   "metadata": {},
   "outputs": [],
   "source": [
    "zaanstad"
   ]
  },
  {
   "cell_type": "code",
   "execution_count": null,
   "id": "00c5985e",
   "metadata": {},
   "outputs": [],
   "source": [
    "oosterhout"
   ]
  },
  {
   "cell_type": "markdown",
   "id": "45d3031c",
   "metadata": {},
   "source": [
    "## Barcharts"
   ]
  },
  {
   "cell_type": "code",
   "execution_count": null,
   "id": "7910bfc0",
   "metadata": {},
   "outputs": [],
   "source": [
    "# Count the occurrences of >I and <I in TOETS_WBB for each dataset\n",
    "zaanstad_counts = data_zaanstad['TOETS_WBB'].value_counts()\n",
    "oosterhout_counts = data_oosterhout['TOETS_WBB'].value_counts()\n",
    "\n",
    "# Combine the datasets for the third plot\n",
    "combined_data = pd.concat([data_zaanstad, data_oosterhout])\n",
    "combined_counts = combined_data['TOETS_WBB'].value_counts()\n",
    "\n",
    "# Set the font size\n",
    "plt.rcParams.update({'font.size': 16})\n",
    "\n",
    "# Create the bar charts\n",
    "fig, axes = plt.subplots(nrows=1, ncols=3, figsize=(15, 5), sharey=False)\n",
    "\n",
    "# Zaanstad\n",
    "axes[0].bar(zaanstad_counts.index, zaanstad_counts.values, color=['green', 'red'])\n",
    "axes[0].set_title('Zaanstad')\n",
    "axes[0].set_xlabel('Sample Classes')\n",
    "axes[0].set_ylabel('Count')\n",
    "\n",
    "# Oosterhout\n",
    "axes[1].bar(oosterhout_counts.index, oosterhout_counts.values, color=['green', 'red'])\n",
    "axes[1].set_title('Oosterhout')\n",
    "axes[1].set_xlabel('Sample Classes')\n",
    "axes[1].set_ylabel('Count')\n",
    "\n",
    "# Combined\n",
    "axes[2].bar(combined_counts.index, combined_counts.values, color=['green', 'red'])\n",
    "axes[2].set_title('Combined')\n",
    "axes[2].set_xlabel('Sample Classes')\n",
    "axes[2].set_ylabel('Count')\n",
    "\n",
    "# Display the plot\n",
    "plt.tight_layout()\n",
    "plt.show()"
   ]
  },
  {
   "cell_type": "code",
   "execution_count": null,
   "id": "e0ae646e",
   "metadata": {},
   "outputs": [],
   "source": [
    "# Mapping dictionary\n",
    "bkk_mapping = {\n",
    "    'AW_2000': 'Low risk',\n",
    "    'Industrie': 'High risk',\n",
    "    'Wonen': 'Medium risk'\n",
    "}\n",
    "\n",
    "# Function to filter out 'Onbekend', map BKK values, and get counts based on TOETS_WBB and BKK\n",
    "def filter_map_and_get_counts(data):\n",
    "    filtered_data = data[data['BKK'] != 'Onbekend']\n",
    "    filtered_data.replace({\"BKK\": bkk_mapping}, inplace=True)\n",
    "    return filtered_data.groupby(['BKK', 'TOETS_WBB']).size().unstack(fill_value=0).reindex(['Low risk', 'Medium risk', 'High risk'])\n",
    "\n",
    "# Get filtered and mapped counts for each dataset\n",
    "zaanstad_counts = filter_map_and_get_counts(data_zaanstad)\n",
    "oosterhout_counts = filter_map_and_get_counts(data_oosterhout)\n",
    "\n",
    "# Combine the datasets for the third plot\n",
    "combined_data = pd.concat([data_zaanstad, data_oosterhout])\n",
    "combined_filtered_data = combined_data[combined_data['BKK'] != 'Onbekend']\n",
    "combined_filtered_data.replace({\"BKK\": bkk_mapping}, inplace=True)\n",
    "combined_counts = combined_filtered_data.groupby(['BKK', 'TOETS_WBB']).size().unstack(fill_value=0).reindex(['Low risk', 'Medium risk', 'High risk'])\n",
    "\n",
    "# Set the font size\n",
    "plt.rcParams.update({'font.size': 20})\n",
    "\n",
    "# Create the bar charts\n",
    "fig, axes = plt.subplots(nrows=1, ncols=3, figsize=(20, 8), sharey=False)\n",
    "\n",
    "def plot_bars(ax, counts, title):\n",
    "    bkk_values = counts.index\n",
    "    index = range(len(bkk_values))\n",
    "    bar_width = 0.35\n",
    "    opacity = 0.8\n",
    "    \n",
    "    ax.bar(index, counts['<I'], bar_width, alpha=opacity, color='g', label='<I')\n",
    "    ax.bar([i + bar_width for i in index], counts['>I'], bar_width, alpha=opacity, color='r', label='>I')\n",
    "\n",
    "    ax.set_ylabel('Count')\n",
    "    ax.set_title(title)\n",
    "    ax.set_xticks([i + bar_width / 2 for i in index])\n",
    "    ax.set_xticklabels(bkk_values, rotation=45)\n",
    "    ax.legend()\n",
    "\n",
    "# Zaanstad\n",
    "plot_bars(axes[0], zaanstad_counts, 'Zaanstad')\n",
    "\n",
    "# Oosterhout\n",
    "plot_bars(axes[1], oosterhout_counts, 'Oosterhout')\n",
    "\n",
    "# Combined\n",
    "plot_bars(axes[2], combined_counts, 'Combined')\n",
    "\n",
    "# Display the plot\n",
    "plt.tight_layout()\n",
    "plt.show()"
   ]
  },
  {
   "cell_type": "code",
   "execution_count": null,
   "id": "fdd64dfc",
   "metadata": {},
   "outputs": [],
   "source": []
  }
 ],
 "metadata": {
  "kernelspec": {
   "display_name": "Python 3 (ipykernel)",
   "language": "python",
   "name": "python3"
  },
  "language_info": {
   "codemirror_mode": {
    "name": "ipython",
    "version": 3
   },
   "file_extension": ".py",
   "mimetype": "text/x-python",
   "name": "python",
   "nbconvert_exporter": "python",
   "pygments_lexer": "ipython3",
   "version": "3.9.12"
  }
 },
 "nbformat": 4,
 "nbformat_minor": 5
}
